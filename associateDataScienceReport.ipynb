{
 "cells": [
  {
   "cell_type": "markdown",
   "id": "0a8ca74a-b235-4034-9c1c-3159336a39d5",
   "metadata": {},
   "source": [
    "# Practical Exam: Supermarket Loyalty\n",
    "\n",
    "International Essentials is an international supermarket chain.\n",
    "\n",
    "Shoppers at their supermarkets can sign up for a loyalty program that provides rewards each year to customers based on their spending. The more you spend the bigger the rewards. \n",
    "\n",
    "The supermarket would like to be able to predict the likely amount customers in the program will spend, so they can estimate the cost of the rewards. \n",
    "\n",
    "This will help them to predict the likely profit at the end of the year.\n",
    "\n",
    "## Data\n",
    "\n",
    "The dataset contains records of customers for their last full year of the loyalty program.\n",
    "\n",
    "| Column Name | Criteria                                                |\n",
    "|-------------|---------------------------------------------------------|\n",
    "|customer_id | Unique identifier for the customer. </br>Missing values are not possible due to the database structure. |\n",
    "|spend | Continuous. </br>The total spend of the customer in their last full year. This can be any positive value to two decimal places. </br>Missing values should be replaced with 0. |\n",
    "|first_month | Continuous. </br>The amount spent by the customer in their first month of the year. This can be any positive value, rounded to two decimal places. </br>Missing values should be replaced with 0. |\n",
    "| items_in_first_month | Discrete. </br>The number of items purchased in the first month. Any integer value greater than or equal to zero. </br>Missing values should be replaced by 0. |  \n",
    "| region | Nominal. </br>The geographic region that the customer is based in. One of four values Americas, Asia/Pacific, Europe, Middle East/Africa. </br>Missing values should be replaced with \"Unknown\". |\n",
    "| loyalty_years | Oridinal. </br>The number of years the customer has been a part of the loyalty program. One of five ordered categories, '0-1', '1-3', '3-5', '5-10', '10+'. </br>Missing values should be replaced with '0-1'.|\n",
    "| joining_month | Nominal. </br>The month the customer joined the loyalty program. One of 12 values \"Jan\", \"Feb\", \"Mar\", \"Apr\", etc. </br>Missing values should be replaced with \"Unknown\".|\n",
    "| promotion | Nominal. </br>Did the customer join the loyalty program as part of a promotion? Either 'Yes' or 'No'. </br>Missing values should be replaced with 'No'.|\n"
   ]
  },
  {
   "cell_type": "markdown",
   "id": "790f8bb8-76fb-44fd-8078-c62909a91b2b",
   "metadata": {},
   "source": [
    "# Task 1\n",
    "\n",
    "Before you fit any models, you will need to make sure the data is clean. \n",
    "\n",
    "The table below shows what the data should look like. \n",
    "\n",
    "Create a cleaned version of the dataframe. \n",
    "\n",
    " - You should start with the data in the file \"loyalty.csv\". \n",
    "\n",
    " - Your output should be a dataframe named `clean_data`. \n",
    "\n",
    " - All column names and values should match the table below.\n",
    "\n",
    "| Column Name | Criteria                                                |\n",
    "|-------------|---------------------------------------------------------|\n",
    "|customer_id | Unique identifier for the customer. </br>Missing values are not possible due to the database structure. |\n",
    "|spend | Continuous. </br>The total spend of the customer in their last full year. This can be any positive value to two decimal places. </br>Missing values should be replaced with 0. |\n",
    "|first_month | Continuous. </br>The amount spent by the customer in their first month of the year. This can be any positive value, rounded to two decimal places. </br>Missing values should be replaced with 0. |\n",
    "| items_in_first_month | Discrete. </br>The number of items purchased in the first month. Any integer value greater than or equal to zero. </br>Missing values should be replaced by 0. |  \n",
    "| region | Nominal. </br>The geographic region that the customer is based in. One of four values Americas, Asia/Pacific, Europe, Middle East/Africa. </br>Missing values should be replaced with \"Unknown\". |\n",
    "| loyalty_years | Oridinal. </br>The number of years the customer has been a part of the loyalty program. One of five ordered categories, '0-1', '1-3', '3-5', '5-10', '10+'. </br>Missing values should be replaced with '0-1'.|\n",
    "| joining_month | Nominal. </br>The month the customer joined the loyalty program. One of 12 values \"Jan\", \"Feb\", \"Mar\", \"Apr\", etc. </br>Missing values should be replaced with \"Unknown\".|\n",
    "| promotion | Nominal. </br>Did the customer join the loyalty program as part of a promotion? Either 'Yes' or 'No'. </br>Missing values should be replaced with 'No'.|"
   ]
  },
  {
   "cell_type": "code",
   "execution_count": 1,
   "id": "523dd03c-8591-4cc6-b750-d71da287745f",
   "metadata": {
    "executionCancelledAt": null,
    "executionTime": 4766,
    "lastExecutedAt": 1720455466350,
    "lastExecutedByKernel": "e528b58c-6403-4bb5-a583-5caa731285be",
    "lastScheduledRunId": null,
    "lastSuccessfullyExecutedCode": "# Use this cell to write your code for Task 1\nimport pandas as pd\nimport numpy as np\n\n\ndf = pd.read_csv(\"loyalty.csv\")\n\nmapper_fillna = {\n    \"spend\": 0,\n    \"first_month\": 0,\n    \"items_in_first_month\": 0,\n    \"region\": \"Unknown\",\n    \"loyalty_years\": \"0-1\",\n    \"joining_month\": \"Unknown\",\n    \"promotion\": \"No\"\n}\n\ndf.first_month = df.first_month.replace('.', np.nan)\ndf = df.fillna(mapper_fillna)\ndf.first_month = df.first_month.astype(\"float\")\ndf.promotion = df.promotion.apply(lambda val: val.lower().title())\ndf.loyalty_years = df.loyalty_years.astype(\"category\")\ndf.loyalty_years = df.loyalty_years.cat.reorder_categories(['0-1', '1-3', '3-5', '5-10', '10+'], ordered=True)\n\n\nclean_data = df.copy()\nclean_data.info()",
    "outputsMetadata": {
     "0": {
      "height": 332,
      "type": "stream"
     }
    }
   },
   "outputs": [
    {
     "name": "stdout",
     "output_type": "stream",
     "text": [
      "<class 'pandas.core.frame.DataFrame'>\n",
      "RangeIndex: 1246 entries, 0 to 1245\n",
      "Data columns (total 8 columns):\n",
      " #   Column                Non-Null Count  Dtype   \n",
      "---  ------                --------------  -----   \n",
      " 0   customer_id           1246 non-null   int64   \n",
      " 1   spend                 1246 non-null   float64 \n",
      " 2   first_month           1246 non-null   float64 \n",
      " 3   items_in_first_month  1246 non-null   int64   \n",
      " 4   region                1246 non-null   object  \n",
      " 5   loyalty_years         1246 non-null   category\n",
      " 6   joining_month         1246 non-null   object  \n",
      " 7   promotion             1246 non-null   object  \n",
      "dtypes: category(1), float64(2), int64(2), object(3)\n",
      "memory usage: 69.7+ KB\n"
     ]
    }
   ],
   "source": [
    "# Use this cell to write your code for Task 1\n",
    "import pandas as pd\n",
    "import numpy as np\n",
    "\n",
    "\n",
    "df = pd.read_csv(\"loyalty.csv\")\n",
    "\n",
    "mapper_fillna = {\n",
    "    \"spend\": 0,\n",
    "    \"first_month\": 0,\n",
    "    \"items_in_first_month\": 0,\n",
    "    \"region\": \"Unknown\",\n",
    "    \"loyalty_years\": \"0-1\",\n",
    "    \"joining_month\": \"Unknown\",\n",
    "    \"promotion\": \"No\"\n",
    "}\n",
    "\n",
    "df.first_month = df.first_month.replace('.', np.nan)\n",
    "df = df.fillna(mapper_fillna)\n",
    "df.first_month = df.first_month.astype(\"float\")\n",
    "df.promotion = df.promotion.apply(lambda val: val.lower().title())\n",
    "df.loyalty_years = df.loyalty_years.astype(\"category\")\n",
    "df.loyalty_years = df.loyalty_years.cat.reorder_categories(['0-1', '1-3', '3-5', '5-10', '10+'], ordered=True)\n",
    "\n",
    "\n",
    "clean_data = df.copy()\n",
    "clean_data.info()"
   ]
  },
  {
   "cell_type": "markdown",
   "id": "08b695b7-67db-48fb-8b14-e12bb5a9620e",
   "metadata": {},
   "source": [
    "# Task 2 \n",
    "\n",
    "The team at International Essentials have told you that they have always believed that the number of years in the loyalty scheme is the biggest driver of spend. \n",
    "\n",
    "Producing a table showing the difference in the average spend by number of years in the loyalty programme along with the variance to investigate this question for the team.\n",
    "\n",
    " - You should start with the data in the file 'loyalty.csv'.\n",
    "\n",
    " - Your output should be a data frame named `spend_by_years`. \n",
    "\n",
    " - It should include the three columns `loyalty_years`, `avg_spend`, `var_spend`. \n",
    "\n",
    " - Your answers should be rounded to 2 decimal places.   "
   ]
  },
  {
   "cell_type": "code",
   "execution_count": 2,
   "id": "c5c48605-efdb-4c89-9734-7364eb422633",
   "metadata": {
    "chartConfig": {
     "bar": {
      "hasRoundedCorners": true,
      "stacked": false
     },
     "type": "bar",
     "version": "v1"
    },
    "executionCancelledAt": null,
    "executionTime": 46,
    "lastExecutedAt": 1720455466396,
    "lastExecutedByKernel": "e528b58c-6403-4bb5-a583-5caa731285be",
    "lastScheduledRunId": null,
    "lastSuccessfullyExecutedCode": "# Use this cell to write your code for Task 2\n\ndf = pd.read_csv(\"loyalty.csv\")\n\nspend_by_years = df.groupby(\"loyalty_years\")[\"spend\"].agg(avg_spend = \"mean\", var_spend = \"var\").round(2)\nspend_by_years = spend_by_years.reset_index()\nspend_by_years",
    "outputsMetadata": {
     "0": {
      "height": 196,
      "type": "dataFrame"
     }
    },
    "visualizeDataframe": false
   },
   "outputs": [
    {
     "data": {
      "text/html": [
       "<div>\n",
       "<style scoped>\n",
       "    .dataframe tbody tr th:only-of-type {\n",
       "        vertical-align: middle;\n",
       "    }\n",
       "\n",
       "    .dataframe tbody tr th {\n",
       "        vertical-align: top;\n",
       "    }\n",
       "\n",
       "    .dataframe thead th {\n",
       "        text-align: right;\n",
       "    }\n",
       "</style>\n",
       "<table border=\"1\" class=\"dataframe\">\n",
       "  <thead>\n",
       "    <tr style=\"text-align: right;\">\n",
       "      <th></th>\n",
       "      <th>loyalty_years</th>\n",
       "      <th>avg_spend</th>\n",
       "      <th>var_spend</th>\n",
       "    </tr>\n",
       "  </thead>\n",
       "  <tbody>\n",
       "    <tr>\n",
       "      <th>0</th>\n",
       "      <td>0-1</td>\n",
       "      <td>110.56</td>\n",
       "      <td>9.30</td>\n",
       "    </tr>\n",
       "    <tr>\n",
       "      <th>1</th>\n",
       "      <td>1-3</td>\n",
       "      <td>129.31</td>\n",
       "      <td>9.65</td>\n",
       "    </tr>\n",
       "    <tr>\n",
       "      <th>2</th>\n",
       "      <td>10+</td>\n",
       "      <td>117.41</td>\n",
       "      <td>16.72</td>\n",
       "    </tr>\n",
       "    <tr>\n",
       "      <th>3</th>\n",
       "      <td>3-5</td>\n",
       "      <td>124.55</td>\n",
       "      <td>11.09</td>\n",
       "    </tr>\n",
       "    <tr>\n",
       "      <th>4</th>\n",
       "      <td>5-10</td>\n",
       "      <td>135.15</td>\n",
       "      <td>14.10</td>\n",
       "    </tr>\n",
       "  </tbody>\n",
       "</table>\n",
       "</div>"
      ],
      "text/plain": [
       "  loyalty_years  avg_spend  var_spend\n",
       "0           0-1     110.56       9.30\n",
       "1           1-3     129.31       9.65\n",
       "2           10+     117.41      16.72\n",
       "3           3-5     124.55      11.09\n",
       "4          5-10     135.15      14.10"
      ]
     },
     "execution_count": 2,
     "metadata": {},
     "output_type": "execute_result"
    }
   ],
   "source": [
    "# Use this cell to write your code for Task 2\n",
    "\n",
    "df = pd.read_csv(\"loyalty.csv\")\n",
    "\n",
    "spend_by_years = df.groupby(\"loyalty_years\")[\"spend\"].agg(avg_spend = \"mean\", var_spend = \"var\").round(2)\n",
    "spend_by_years = spend_by_years.reset_index()\n",
    "spend_by_years"
   ]
  },
  {
   "cell_type": "markdown",
   "id": "7113acde-8a74-487a-8983-f0c93003d945",
   "metadata": {},
   "source": [
    "# Task 3\n",
    "\n",
    "Fit a baseline model to predict the spend over the year for each customer.\n",
    "\n",
    " 1. Fit your model using the data contained in “train.csv” </br></br>\n",
    "\n",
    " 2. Use “test.csv” to predict new values based on your model. You must return a dataframe named `base_result`, that includes `customer_id` and `spend`. The `spend` column must be your predicted values."
   ]
  },
  {
   "cell_type": "code",
   "execution_count": 3,
   "id": "79a77f11-b09b-4d70-893b-535dfde919b2",
   "metadata": {
    "executionCancelledAt": null,
    "executionTime": 690,
    "lastExecutedAt": 1720455467087,
    "lastExecutedByKernel": "e528b58c-6403-4bb5-a583-5caa731285be",
    "lastScheduledRunId": null,
    "lastSuccessfullyExecutedCode": "# Use this cell to write your code for Task 3\ntrain = pd.read_csv(\"train.csv\")\ntest = pd.read_csv(\"test.csv\")\n\nX = train.drop([\"customer_id\", \"spend\"], axis=1)\nX_test = test.drop(\"customer_id\", axis=1)\n\ny = train.spend\n\nX = pd.get_dummies(X, drop_first=True)\nX_test = pd.get_dummies(X_test, drop_first=True)\n\nfrom sklearn.linear_model import LinearRegression\nfrom sklearn.preprocessing import MaxAbsScaler\nfrom sklearn.pipeline import Pipeline\nfrom sklearn.metrics import mean_squared_error\n\npipe = Pipeline([\n    (\"scaler\", MaxAbsScaler()),\n    (\"lr\", LinearRegression())\n])\n\npipe.fit(X, y)\ny_pred_lr = pipe.predict(X_test)\n\nbase_result = pd.DataFrame({\"customer_id\": test.customer_id.values, \"spend\": y_pred_lr})\nbase_result.head(3)",
    "outputsMetadata": {
     "0": {
      "height": 146,
      "type": "dataFrame"
     },
     "1": {
      "height": 145,
      "type": "dataFrame"
     }
    }
   },
   "outputs": [
    {
     "data": {
      "text/html": [
       "<div>\n",
       "<style scoped>\n",
       "    .dataframe tbody tr th:only-of-type {\n",
       "        vertical-align: middle;\n",
       "    }\n",
       "\n",
       "    .dataframe tbody tr th {\n",
       "        vertical-align: top;\n",
       "    }\n",
       "\n",
       "    .dataframe thead th {\n",
       "        text-align: right;\n",
       "    }\n",
       "</style>\n",
       "<table border=\"1\" class=\"dataframe\">\n",
       "  <thead>\n",
       "    <tr style=\"text-align: right;\">\n",
       "      <th></th>\n",
       "      <th>customer_id</th>\n",
       "      <th>spend</th>\n",
       "    </tr>\n",
       "  </thead>\n",
       "  <tbody>\n",
       "    <tr>\n",
       "      <th>0</th>\n",
       "      <td>5</td>\n",
       "      <td>140.699644</td>\n",
       "    </tr>\n",
       "    <tr>\n",
       "      <th>1</th>\n",
       "      <td>7</td>\n",
       "      <td>148.730919</td>\n",
       "    </tr>\n",
       "    <tr>\n",
       "      <th>2</th>\n",
       "      <td>16</td>\n",
       "      <td>140.810384</td>\n",
       "    </tr>\n",
       "  </tbody>\n",
       "</table>\n",
       "</div>"
      ],
      "text/plain": [
       "   customer_id       spend\n",
       "0            5  140.699644\n",
       "1            7  148.730919\n",
       "2           16  140.810384"
      ]
     },
     "execution_count": 3,
     "metadata": {},
     "output_type": "execute_result"
    }
   ],
   "source": [
    "# Use this cell to write your code for Task 3\n",
    "train = pd.read_csv(\"train.csv\")\n",
    "test = pd.read_csv(\"test.csv\")\n",
    "\n",
    "X = train.drop([\"customer_id\", \"spend\"], axis=1)\n",
    "X_test = test.drop(\"customer_id\", axis=1)\n",
    "\n",
    "y = train.spend\n",
    "\n",
    "X = pd.get_dummies(X, drop_first=True)\n",
    "X_test = pd.get_dummies(X_test, drop_first=True)\n",
    "\n",
    "from sklearn.linear_model import LinearRegression\n",
    "from sklearn.preprocessing import MaxAbsScaler\n",
    "from sklearn.pipeline import Pipeline\n",
    "from sklearn.metrics import mean_squared_error\n",
    "\n",
    "pipe = Pipeline([\n",
    "    (\"scaler\", MaxAbsScaler()),\n",
    "    (\"lr\", LinearRegression())\n",
    "])\n",
    "\n",
    "pipe.fit(X, y)\n",
    "y_pred_lr = pipe.predict(X_test)\n",
    "\n",
    "base_result = pd.DataFrame({\"customer_id\": test.customer_id.values, \"spend\": y_pred_lr})\n",
    "base_result.head(3)"
   ]
  },
  {
   "cell_type": "markdown",
   "id": "44033abf-a603-479e-8663-9a96fefee5a2",
   "metadata": {},
   "source": [
    "# Task 4\n",
    "\n",
    "Fit a comparison model to predict the sale price of a house.\n",
    "\n",
    " 1. Fit your model using the data contained in “train.csv” </br></br>\n",
    "\n",
    " 2. Use “test.csv” to predict new values based on your model. You must return a dataframe named `compare_result`, that includes `customer_id` and `spend`. The `spend` column must be your predicted values."
   ]
  },
  {
   "cell_type": "code",
   "execution_count": 4,
   "id": "731cfa01-2709-413a-ac19-611e73e37c75",
   "metadata": {
    "executionCancelledAt": null,
    "executionTime": 930,
    "lastExecutedAt": 1720455468018,
    "lastExecutedByKernel": "e528b58c-6403-4bb5-a583-5caa731285be",
    "lastScheduledRunId": null,
    "lastSuccessfullyExecutedCode": "# Use this cell to write your code for Task 4\ntrain = pd.read_csv(\"train.csv\")\ntest = pd.read_csv(\"test.csv\")\n\nX = train.drop([\"customer_id\", \"spend\"], axis=1)\nX_test = test.drop(\"customer_id\", axis=1)\n\ny = train.spend\n\nX = pd.get_dummies(X, drop_first=True)\nX_test = pd.get_dummies(X_test, drop_first=True)\n\nfrom sklearn.model_selection import GridSearchCV\nfrom sklearn.ensemble import RandomForestRegressor\nfrom sklearn.preprocessing import MaxAbsScaler\nfrom sklearn.pipeline import Pipeline\n\npipe = Pipeline([\n    (\"scaler\", MaxAbsScaler()),\n    (\"gbr\", GradientBoostingRegressor(subsample=0.8, max_depth=1))\n])\n\nparams = {\n    \"gbr__max_features\": [0.18,0.2,0.22],\n    \"gbr__n_estimators\": [300,400,500,600,700]\n}\n\ngrid = GridSearchCV(pipe, params, cv=10, n_jobs=-1, scoring=\"neg_mean_squared_error\")\n\ngrid.fit(X, y)\nbest_model = grid.best_estimator_\n\ny_pred_sgbr = best_model.predict(X_test)\n\ncompare_result = pd.DataFrame({\"customer_id\": test.customer_id.values, \"spend\": y_pred_sgbr})\ncompare_result.head(3)",
    "outputsMetadata": {
     "0": {
      "height": 146,
      "type": "dataFrame"
     },
     "1": {
      "height": 194,
      "type": "dataFrame"
     }
    }
   },
   "outputs": [
    {
     "data": {
      "text/html": [
       "<div>\n",
       "<style scoped>\n",
       "    .dataframe tbody tr th:only-of-type {\n",
       "        vertical-align: middle;\n",
       "    }\n",
       "\n",
       "    .dataframe tbody tr th {\n",
       "        vertical-align: top;\n",
       "    }\n",
       "\n",
       "    .dataframe thead th {\n",
       "        text-align: right;\n",
       "    }\n",
       "</style>\n",
       "<table border=\"1\" class=\"dataframe\">\n",
       "  <thead>\n",
       "    <tr style=\"text-align: right;\">\n",
       "      <th></th>\n",
       "      <th>customer_id</th>\n",
       "      <th>spend</th>\n",
       "    </tr>\n",
       "  </thead>\n",
       "  <tbody>\n",
       "    <tr>\n",
       "      <th>0</th>\n",
       "      <td>5</td>\n",
       "      <td>140.917592</td>\n",
       "    </tr>\n",
       "    <tr>\n",
       "      <th>1</th>\n",
       "      <td>7</td>\n",
       "      <td>149.223575</td>\n",
       "    </tr>\n",
       "    <tr>\n",
       "      <th>2</th>\n",
       "      <td>16</td>\n",
       "      <td>139.764346</td>\n",
       "    </tr>\n",
       "  </tbody>\n",
       "</table>\n",
       "</div>"
      ],
      "text/plain": [
       "   customer_id       spend\n",
       "0            5  140.917592\n",
       "1            7  149.223575\n",
       "2           16  139.764346"
      ]
     },
     "execution_count": 4,
     "metadata": {},
     "output_type": "execute_result"
    }
   ],
   "source": [
    "# Use this cell to write your code for Task 4\n",
    "train = pd.read_csv(\"train.csv\")\n",
    "test = pd.read_csv(\"test.csv\")\n",
    "\n",
    "X = train.drop([\"customer_id\", \"spend\"], axis=1)\n",
    "X_test = test.drop(\"customer_id\", axis=1)\n",
    "\n",
    "y = train.spend\n",
    "\n",
    "X = pd.get_dummies(X, drop_first=True)\n",
    "X_test = pd.get_dummies(X_test, drop_first=True)\n",
    "\n",
    "from sklearn.model_selection import GridSearchCV\n",
    "from sklearn.ensemble import GradientBoostingRegressor\n",
    "from sklearn.preprocessing import MaxAbsScaler\n",
    "from sklearn.pipeline import Pipeline\n",
    "\n",
    "pipe = Pipeline([\n",
    "    (\"scaler\", MaxAbsScaler()),\n",
    "    (\"gbr\", GradientBoostingRegressor(subsample=0.8, max_depth=1))\n",
    "])\n",
    "\n",
    "params = {\n",
    "    \"gbr__max_features\": [0.18,0.2,0.22],\n",
    "    \"gbr__n_estimators\": [300,400,500,600,700]\n",
    "}\n",
    "\n",
    "grid = GridSearchCV(pipe, params, cv=10, n_jobs=-1, scoring=\"neg_mean_squared_error\")\n",
    "\n",
    "grid.fit(X, y)\n",
    "best_model = grid.best_estimator_\n",
    "\n",
    "y_pred_sgbr = best_model.predict(X_test)\n",
    "\n",
    "compare_result = pd.DataFrame({\"customer_id\": test.customer_id.values, \"spend\": y_pred_sgbr})\n",
    "compare_result.head(3)"
   ]
  },
  {
   "cell_type": "code",
   "execution_count": null,
   "id": "8c6d1611-a257-43ca-8c65-31c9628a3b9d",
   "metadata": {},
   "outputs": [],
   "source": []
  }
 ],
 "metadata": {
  "colab": {
   "name": "Welcome to DataCamp Workspaces.ipynb",
   "provenance": []
  },
  "kernelspec": {
   "display_name": "Python 3 (ipykernel)",
   "language": "python",
   "name": "python3"
  },
  "language_info": {
   "codemirror_mode": {
    "name": "ipython",
    "version": 3
   },
   "file_extension": ".py",
   "mimetype": "text/x-python",
   "name": "python",
   "nbconvert_exporter": "python",
   "pygments_lexer": "ipython3",
   "version": "3.12.4"
  }
 },
 "nbformat": 4,
 "nbformat_minor": 5
}
